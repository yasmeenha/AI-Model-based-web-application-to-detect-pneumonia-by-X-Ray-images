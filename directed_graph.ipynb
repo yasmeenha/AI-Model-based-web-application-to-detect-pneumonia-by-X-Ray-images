{
  "nbformat": 4,
  "nbformat_minor": 0,
  "metadata": {
    "colab": {
      "provenance": [],
      "include_colab_link": true
    },
    "kernelspec": {
      "name": "python3",
      "display_name": "Python 3"
    },
    "language_info": {
      "name": "python"
    }
  },
  "cells": [
    {
      "cell_type": "markdown",
      "metadata": {
        "id": "view-in-github",
        "colab_type": "text"
      },
      "source": [
        "<a href=\"https://colab.research.google.com/github/yasmeenha/AI-Model-based-web-application-to-detect-pneumonia-by-X-Ray-images/blob/main/directed_graph.ipynb\" target=\"_parent\"><img src=\"https://colab.research.google.com/assets/colab-badge.svg\" alt=\"Open In Colab\"/></a>"
      ]
    },
    {
      "cell_type": "code",
      "execution_count": null,
      "metadata": {
        "id": "lBXOxJ5Q-asc"
      },
      "outputs": [],
      "source": [
        "import networkx as nx\n",
        "G = nx.DiGraph()  # create a directed graph"
      ]
    },
    {
      "cell_type": "code",
      "source": [
        "G.add_node(\"ab\")  # label nodes\n",
        "print(G.nodes)"
      ],
      "metadata": {
        "colab": {
          "base_uri": "https://localhost:8080/"
        },
        "id": "NR9Pn21R-yw-",
        "outputId": "66986ea8-fd20-401a-ac1b-94fc4bd7b34b"
      },
      "execution_count": null,
      "outputs": [
        {
          "output_type": "stream",
          "name": "stdout",
          "text": [
            "['ab']\n"
          ]
        }
      ]
    },
    {
      "cell_type": "code",
      "source": [
        "G.add_edges_from([(\"ab\", \"nc\"), (\"fb\", \"nc\")])  # add edges\n",
        "print(G.nodes)\n",
        "print(G.edges)"
      ],
      "metadata": {
        "colab": {
          "base_uri": "https://localhost:8080/"
        },
        "id": "j7NkYUIaD_lx",
        "outputId": "97cfc10d-0dbc-4fc7-9c28-5325a23e6019"
      },
      "execution_count": null,
      "outputs": [
        {
          "output_type": "stream",
          "name": "stdout",
          "text": [
            "['ab', 'nc', 'fb']\n",
            "[('ab', 'nc'), ('fb', 'nc')]\n"
          ]
        }
      ]
    },
    {
      "cell_type": "code",
      "source": [
        "G.add_node(\"ab\", ab_y=0.1, ab_n=0.9)   # add node attributes - useful for attaching probabiity tables to nodes\n",
        "G.add_node(\"fb\", fb_y=0.2, fb_n=0.8)   # let's go down one level and attach a table to the \"no charging node\"\n",
        "G.add_node(\"nc\", ab_y_fb_y_nc=y= 0.75, ab_y_fb_n_nc=y= 0.4, ab_n_fb_y_nc=y= 0.6, ab_n_fb_n_nc=y= 0.1,ab_y_fb_y_nc_n= 0.25, ab_y_fb_n_nc_n= 0.6, ab_n_fb_y_nc_n= 0.4, ab_n_fb_n_nc_n= 0.9)  \n",
        "# probabiluity table for \"no charging\" node\n"
      ],
      "metadata": {
        "id": "WhQiF9XzElDi"
      },
      "execution_count": null,
      "outputs": []
    },
    {
      "cell_type": "markdown",
      "source": [
        "Add nodes, edges and probability tables for the rest of the network."
      ],
      "metadata": {
        "id": "TCNDI_AuibqL"
      }
    },
    {
      "cell_type": "markdown",
      "source": [
        "After your network is fully defined you can begin the inference process."
      ],
      "metadata": {
        "id": "QcDLnJlPjI6E"
      }
    },
    {
      "cell_type": "markdown",
      "source": [
        "One useful tool to use in inferencing is the depth first search procedure that will  return all paths leading to a given node from all root nodes in the graph. This is implemented via the all_simple_paths method in Networkx\n"
      ],
      "metadata": {
        "id": "fPpNxj8BkiM9"
      }
    },
    {
      "cell_type": "code",
      "source": [
        "roots = (v for v, d in G.in_degree() if d == 0)\n",
        "all_paths = []\n",
        "for root in roots:\n",
        "    paths = nx.all_simple_paths(G, root, \"nc\")\n",
        "    all_paths.extend(paths)\n",
        "all_paths"
      ],
      "metadata": {
        "colab": {
          "base_uri": "https://localhost:8080/"
        },
        "id": "faStkFNU6MmP",
        "outputId": "aca354fc-ecda-4abd-98aa-0d51c7972ba0"
      },
      "execution_count": null,
      "outputs": [
        {
          "output_type": "execute_result",
          "data": {
            "text/plain": [
              "[['ab', 'nc'], ['fb', 'nc']]"
            ]
          },
          "metadata": {},
          "execution_count": 41
        }
      ]
    }
  ]
}